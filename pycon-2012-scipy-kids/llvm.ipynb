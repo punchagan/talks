{
 "metadata": {
  "name": "llvm"
 },
 "nbformat": 3,
 "nbformat_minor": 0,
 "worksheets": [
  {
   "cells": [
    {
     "cell_type": "markdown",
     "metadata": {},
     "source": [
      "LLVM is compiler infrastructure. (nothing to do with Python)\n",
      "\n",
      "Provides a compiler (including JIT) as a library\n",
      "\n",
      "llvm-py provides Python bindings to LLVM\n",
      "\n",
      "numba, bitey"
     ]
    },
    {
     "cell_type": "markdown",
     "metadata": {},
     "source": [
      "PyOpenCL\n",
      "\n",
      "CLyther"
     ]
    },
    {
     "cell_type": "code",
     "collapsed": false,
     "input": [
      "%load https://raw.github.com/inducer/pyopencl/master/examples/narray.py"
     ],
     "language": "python",
     "metadata": {},
     "outputs": [],
     "prompt_number": 4
    },
    {
     "cell_type": "code",
     "collapsed": false,
     "input": [
      "# example by Roger Pau Monn'e\n",
      "import pyopencl as cl\n",
      "import numpy as np\n",
      "\n",
      "demo_r = np.empty( (500,5), dtype=np.uint32)\n",
      "ctx = cl.create_some_context()\n",
      "queue = cl.CommandQueue(ctx)\n",
      "\n",
      "mf = cl.mem_flags\n",
      "demo_buf = cl.Buffer(ctx, mf.WRITE_ONLY, demo_r.nbytes)\n",
      "\n",
      "prg = cl.Program(ctx,\n",
      "\"\"\"\n",
      "__kernel void demo(__global uint *demo)\n",
      "{\n",
      "    int i;\n",
      "    int gid = get_global_id(0);\n",
      "    for(i=0; i<5;i++)\n",
      "    {\n",
      "        demo[gid*5+i] = (uint) 1;\n",
      "    }\n",
      "}\"\"\")\n",
      "\n",
      "try:\n",
      "    prg.build()\n",
      "except:\n",
      "    print(\"Error:\")\n",
      "    print(prg.get_build_info(ctx.devices[0], cl.program_build_info.LOG))\n",
      "    raise\n",
      "\n",
      "prg.demo(queue, (500,), None, demo_buf)\n",
      "cl.enqueue_read_buffer(queue, demo_buf, demo_r).wait()\n",
      "\n",
      "for res in demo_r:\n",
      "    print(res)\n",
      "\n"
     ],
     "language": "python",
     "metadata": {},
     "outputs": [
      {
       "ename": "ImportError",
       "evalue": "No module named pyopencl",
       "output_type": "pyerr",
       "traceback": [
        "\u001b[1;31m---------------------------------------------------------------------------\u001b[0m\n\u001b[1;31mImportError\u001b[0m                               Traceback (most recent call last)",
        "\u001b[1;32m<ipython-input-5-efcad1ae843c>\u001b[0m in \u001b[0;36m<module>\u001b[1;34m()\u001b[0m\n\u001b[0;32m      1\u001b[0m \u001b[1;31m# example by Roger Pau Monn'e\u001b[0m\u001b[1;33m\u001b[0m\u001b[1;33m\u001b[0m\u001b[0m\n\u001b[1;32m----> 2\u001b[1;33m \u001b[1;32mimport\u001b[0m \u001b[0mpyopencl\u001b[0m \u001b[1;32mas\u001b[0m \u001b[0mcl\u001b[0m\u001b[1;33m\u001b[0m\u001b[0m\n\u001b[0m\u001b[0;32m      3\u001b[0m \u001b[1;32mimport\u001b[0m \u001b[0mnumpy\u001b[0m \u001b[1;32mas\u001b[0m \u001b[0mnp\u001b[0m\u001b[1;33m\u001b[0m\u001b[0m\n\u001b[0;32m      4\u001b[0m \u001b[1;33m\u001b[0m\u001b[0m\n\u001b[0;32m      5\u001b[0m \u001b[0mdemo_r\u001b[0m \u001b[1;33m=\u001b[0m \u001b[0mnp\u001b[0m\u001b[1;33m.\u001b[0m\u001b[0mempty\u001b[0m\u001b[1;33m(\u001b[0m \u001b[1;33m(\u001b[0m\u001b[1;36m500\u001b[0m\u001b[1;33m,\u001b[0m\u001b[1;36m5\u001b[0m\u001b[1;33m)\u001b[0m\u001b[1;33m,\u001b[0m \u001b[0mdtype\u001b[0m\u001b[1;33m=\u001b[0m\u001b[0mnp\u001b[0m\u001b[1;33m.\u001b[0m\u001b[0muint32\u001b[0m\u001b[1;33m)\u001b[0m\u001b[1;33m\u001b[0m\u001b[0m\n",
        "\u001b[1;31mImportError\u001b[0m: No module named pyopencl"
       ]
      }
     ],
     "prompt_number": 5
    },
    {
     "cell_type": "code",
     "collapsed": false,
     "input": [
      "%load https://raw.github.com/srossross/Clyther/develop/examples/example1.py"
     ],
     "language": "python",
     "metadata": {},
     "outputs": [],
     "prompt_number": 7
    },
    {
     "cell_type": "code",
     "collapsed": false,
     "input": [
      "import clyther as cly\n",
      "\n",
      "import opencl as cl\n",
      "\n",
      "import clyther.runtime as clrt\n",
      "\n",
      "@cly.global_work_size(lambda a: a.shape)\n",
      "@cly.kernel\n",
      "def foo(a):\n",
      "    x = clrt.get_global_id(0)\n",
      "    y = clrt.get_global_id(1)\n",
      "   \n",
      "    a[x, y] = x + y * 100\n",
      "     \n",
      "ctx = cl.Context(device_type=cl.Device.CPU)\n",
      "\n",
      "queue = cl.Queue(ctx)\n",
      "\n",
      "a = cl.empty(ctx, [4, 4], 'f')\n",
      "\n",
      "foo(queue, a)\n",
      "\n",
      "print foo._compile(ctx, a=cl.global_memory('f'), source_only=True)\n",
      "\n",
      "import numpy as np\n",
      "with a.map(queue) as view:\n",
      "    print np.asarray(view)\n"
     ],
     "language": "python",
     "metadata": {},
     "outputs": []
    }
   ],
   "metadata": {}
  }
 ]
}