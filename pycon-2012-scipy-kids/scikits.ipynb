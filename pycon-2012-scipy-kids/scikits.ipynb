{
 "metadata": {
  "name": "scikits"
 },
 "nbformat": 3,
 "nbformat_minor": 0,
 "worksheets": [
  {
   "cells": [
    {
     "cell_type": "markdown",
     "metadata": {},
     "source": [
      "SciKits (short for SciPy Toolkits), are add-on packages for SciPy, hosted and developed separately from the main SciPy distribution.\n",
      "\n",
      "Packages are packaged as toolkits (instead of in the main, monolithic SciPy distribution) when:\n",
      "\n",
      " 1. The package is deemed too specialized to live in SciPy itself or\n",
      " 1. The package has a GPL (or similar) license which is incompatible with SciPy's BSD license or\n",
      " 1. The package is meant to be included in SciPy, but development is still in progress."
     ]
    },
    {
     "cell_type": "markdown",
     "metadata": {},
     "source": [
      "### scikit-learn\n",
      "\n",
      "- machine learning library\n",
      "\n",
      "  - Support vector machines, linear models, naive Bayes, Gaussian processes\n",
      "  - Clustering, Gaussian mixture models, manifold learning, matrix factorization, covariance\n",
      "\n",
      "- aims to provide\n",
      "\n",
      "  - simple and efficient solutions to learning problems, \n",
      "  - accessible to everybody \n",
      "  - reusable in various contexts\n",
      "\n",
      "- very actively developed\n"
     ]
    },
    {
     "cell_type": "markdown",
     "metadata": {},
     "source": [
      "### scikit-image\n",
      "\n",
      "- collection of algorithms for image processing\n",
      "- including IO, morphology, filtering, warping, color manipulation, object detection"
     ]
    },
    {
     "cell_type": "markdown",
     "metadata": {},
     "source": [
      "### statsmodels\n",
      "\n",
      "- explore data, estimate statistical models, and perform statistical tests.\n",
      "- Generalized Linear Models, Robust Linear Models, Time series analysis, ... "
     ]
    }
   ],
   "metadata": {}
  }
 ]
}