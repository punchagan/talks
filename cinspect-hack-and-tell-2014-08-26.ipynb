{
 "cells": [
  {
   "cell_type": "markdown",
   "metadata": {
    "internals": {
     "slide_type": "subslide"
    },
    "slideshow": {
     "slide_type": "slide"
    }
   },
   "source": [
    "# `cinspect` - C-code inspection for CPython "
   ]
  },
  {
   "cell_type": "markdown",
   "metadata": {
    "internals": {},
    "slideshow": {
     "slide_type": "-"
    }
   },
   "source": [
    "## Puneeth Chaganti\n",
    "\n",
    "### Currently @hackerschool\n",
    "\n",
    "### @punchagan (on the interwebs)"
   ]
  },
  {
   "cell_type": "markdown",
   "metadata": {
    "internals": {},
    "slideshow": {
     "slide_type": "-"
    }
   },
   "source": [
    "<blockquote class=\"twitter-tweet\" lang=\"en\"><p>I have pry show-method envy. Are there any Python projects for finding c source of a CPython builtin function or object? cc <a href=\"https://twitter.com/IPythonDev\">@IPythonDev</a></p>&mdash; Thomas Ballinger (@ballingt) <a href=\"https://twitter.com/ballingt/statuses/483394809411825665\">June 29, 2014</a></blockquote>\n",
    "<script async src=\"//platform.twitter.com/widgets.js\" charset=\"utf-8\"></script>"
   ]
  },
  {
   "cell_type": "code",
   "execution_count": 1,
   "metadata": {
    "collapsed": false,
    "internals": {},
    "slideshow": {
     "slide_type": "-"
    }
   },
   "outputs": [],
   "source": [
    "def hello():\n",
    "    \"\"\" This function greets Hack-n-Tell-ers. \"\"\"\n",
    "    print 'Hello, Hackers!'"
   ]
  },
  {
   "cell_type": "code",
   "execution_count": 2,
   "metadata": {
    "collapsed": false,
    "internals": {},
    "slideshow": {
     "slide_type": "-"
    }
   },
   "outputs": [
    {
     "name": "stdout",
     "output_type": "stream",
     "text": [
      "Hello, Hackers!\n"
     ]
    }
   ],
   "source": [
    "hello()"
   ]
  },
  {
   "cell_type": "code",
   "execution_count": 6,
   "metadata": {
    "collapsed": false,
    "internals": {},
    "slideshow": {
     "slide_type": "-"
    }
   },
   "outputs": [
    {
     "name": "stdout",
     "output_type": "stream",
     "text": [
      "def hello():\n",
      "    \"\"\" This function greets Hack-n-Tell-ers. \"\"\"\n",
      "    print 'Hello, Hackers!'\n",
      "\n"
     ]
    }
   ],
   "source": [
    "from inspect import getsource\n",
    "\n",
    "print getsource(hello)"
   ]
  },
  {
   "cell_type": "code",
   "execution_count": 4,
   "metadata": {
    "collapsed": false,
    "internals": {},
    "slideshow": {
     "slide_type": "-"
    }
   },
   "outputs": [],
   "source": [
    "hello??"
   ]
  },
  {
   "cell_type": "code",
   "execution_count": 7,
   "metadata": {
    "collapsed": false,
    "internals": {},
    "slideshow": {
     "slide_type": "-"
    }
   },
   "outputs": [],
   "source": [
    "teams = ['Argentina', 'Germany', 'Brazil', 'Netherlands']"
   ]
  },
  {
   "cell_type": "code",
   "execution_count": 8,
   "metadata": {
    "collapsed": false,
    "internals": {},
    "slideshow": {
     "slide_type": "-"
    }
   },
   "outputs": [
    {
     "data": {
      "text/plain": [
       "'Brazil'"
      ]
     },
     "execution_count": 8,
     "metadata": {},
     "output_type": "execute_result"
    }
   ],
   "source": [
    "teams.pop(-1)\n",
    "teams.pop(-1)"
   ]
  },
  {
   "cell_type": "code",
   "execution_count": 9,
   "metadata": {
    "collapsed": false,
    "internals": {},
    "slideshow": {
     "slide_type": "-"
    }
   },
   "outputs": [
    {
     "data": {
      "text/plain": [
       "u'static PyObject *\\nlistpop(PyListObject *self, PyObject *args)\\n{\\n    Py_ssize_t i = -1;\\n    PyObject *v;\\n    int status;\\n\\n    if (!PyArg_ParseTuple(args, \"|n:pop\", &i))\\n        return NULL;\\n\\n    if (Py_SIZE(self) == 0) {\\n        /* Special-case most common failure cause */\\n        PyErr_SetString(PyExc_IndexError, \"pop from empty list\");\\n        return NULL;\\n    }\\n    if (i < 0)\\n        i += Py_SIZE(self);\\n    if (i < 0 || i >= Py_SIZE(self)) {\\n        PyErr_SetString(PyExc_IndexError, \"pop index out of range\");\\n        return NULL;\\n    }\\n    v = self->ob_item[i];\\n    if (i == Py_SIZE(self) - 1) {\\n        status = list_resize(self, Py_SIZE(self) - 1);\\n        assert(status >= 0);\\n        return v; /* and v now owns the reference the list had */\\n    }\\n    Py_INCREF(v);\\n    status = list_ass_slice(self, i, i+1, (PyObject *)NULL);\\n    assert(status >= 0);\\n    /* Use status, so that in a release build compilers don\\'t\\n     * complain about the unused name.\\n     */\\n    (void) status;\\n\\n    return v;\\n}'"
      ]
     },
     "execution_count": 9,
     "metadata": {},
     "output_type": "execute_result"
    }
   ],
   "source": [
    "getsource(teams.pop)"
   ]
  },
  {
   "cell_type": "code",
   "execution_count": 8,
   "metadata": {
    "collapsed": false,
    "internals": {},
    "slideshow": {
     "slide_type": "-"
    }
   },
   "outputs": [
    {
     "name": "stdout",
     "output_type": "stream",
     "text": [
      "/home/punchagan/.virtualenvs/hs/bin/pip\n",
      "/home/punchagan/software/my-repos/cinspect\n",
      "Unpacking /home/punchagan/software/my-repos/cinspect\n",
      "  Running setup.py (path:/tmp/pip-YZ2sOG-build/setup.py) egg_info for package from file:///home/punchagan/software/my-repos/cinspect\n",
      "    \n",
      "  Requirement already satisfied (use --upgrade to upgrade): cinspect==0.1 from file:///home/punchagan/software/my-repos/cinspect in /home/punchagan/software/my-repos/cinspect\n",
      "Cleaning up...\n"
     ]
    }
   ],
   "source": [
    "# Install cinspect\n",
    "!which pip\n",
    "!pwd\n",
    "!pip install ."
   ]
  },
  {
   "cell_type": "code",
   "execution_count": 9,
   "metadata": {
    "collapsed": false,
    "internals": {},
    "slideshow": {
     "slide_type": "-"
    }
   },
   "outputs": [],
   "source": [
    "# Monkey patch IPython\n",
    "!cp utils/00-cinspect.py /home/punchagan/.ipython/profile_hack_n_tell/startup/00-cinspect.py"
   ]
  },
  {
   "cell_type": "code",
   "execution_count": null,
   "metadata": {
    "collapsed": false,
    "internals": {},
    "slideshow": {
     "slide_type": "-"
    }
   },
   "outputs": [],
   "source": [
    "#from IPython.display import HTML\n",
    "#HTML(\"\"\"<blockquote class=\"twitter-tweet\" lang=\"en\"><p>I have pry show-method envy. Are there any Python projects for finding c source of a CPython builtin function or object? cc <a href=\"https://twitter.com/IPythonDev\">@IPythonDev</a></p>&mdash; Thomas Ballinger (@ballingt) <a href=\"https://twitter.com/ballingt/statuses/483394809411825665\">June 29, 2014</a></blockquote>\n",
    "#<script async src=\"//platform.twitter.com/widgets.js\" charset=\"utf-8\"></script>\"\"\")"
   ]
  },
  {
   "cell_type": "markdown",
   "metadata": {
    "internals": {},
    "slideshow": {
     "slide_type": "-"
    }
   },
   "source": [
    "## How ?\n",
    "\n",
    "- Run the indexing tool on the CPython source code.\n",
    "- Look up the indexes for the desired object!\n",
    "- Profit!"
   ]
  },
  {
   "cell_type": "code",
   "execution_count": 3,
   "metadata": {
    "collapsed": false,
    "internals": {},
    "slideshow": {
     "slide_type": "-"
    }
   },
   "outputs": [
    {
     "name": "stdout",
     "output_type": "stream",
     "text": [
      "usage: cinspect-index [-h] [--verbose] [-c LIBCLANG]\r\n",
      "                      paths [paths ...]\r\n",
      "cinspect-index: error: too few arguments\r\n"
     ]
    }
   ],
   "source": [
    "!cinspect-index --help/home/punchagan/.virtualenvs/hs/local/lib/python2.7/site-packages/tornado/tcpserver.py"
   ]
  },
  {
   "cell_type": "markdown",
   "metadata": {
    "internals": {
     "slide_helper": "subslide_end"
    },
    "slide_helper": "slide_end",
    "slideshow": {
     "slide_type": "-"
    }
   },
   "source": [
    "## Source:  [https://github.com/punchagan/cinspect](https://github.com/punchagan/cinspect)\n",
    "## Apply to Hacker School!"
   ]
  }
 ],
 "metadata": {
  "kernelspec": {
   "display_name": "Python 3",
   "language": "python",
   "name": "python3"
  },
  "language_info": {
   "codemirror_mode": {
    "name": "ipython",
    "version": 3
   },
   "file_extension": ".py",
   "mimetype": "text/x-python",
   "name": "python",
   "nbconvert_exporter": "python",
   "pygments_lexer": "ipython3",
   "version": "3.5.1+"
  }
 },
 "nbformat": 4,
 "nbformat_minor": 0
}
